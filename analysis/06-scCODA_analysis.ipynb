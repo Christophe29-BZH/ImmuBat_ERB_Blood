{
 "cells": [
  {
   "cell_type": "markdown",
   "id": "43a98033",
   "metadata": {},
   "source": [
    "# Script for scCODA analysis\n",
    "### Description:\n",
    "This script takes as input the table of total count of cells for each cell type per bat individual. scCODA analysis is then performed to determine which cell types are differentially abundant across ages. All pair-wise tests are performed (Adu vs Juv, Juv vs Adu, Adu vs Sub...). Only significant differences with FDR < 0.05 or 0.1 were further considered."
   ]
  },
  {
   "cell_type": "code",
   "execution_count": null,
   "id": "d008a0f9",
   "metadata": {},
   "outputs": [],
   "source": [
    "# Setup python packages\n",
    "import warnings\n",
    "warnings.filterwarnings(\"ignore\")\n",
    "\n",
    "import pandas as pd\n",
    "import pickle as pkl\n",
    "import matplotlib.pyplot as plt\n",
    "import seaborn as sns\n",
    "import arviz as az\n",
    "\n",
    "from sccoda.util import comp_ana as mod\n",
    "from sccoda.util import cell_composition_data as dat\n",
    "from sccoda.util import data_visualization as viz"
   ]
  },
  {
   "cell_type": "markdown",
   "id": "f778af7b",
   "metadata": {},
   "source": [
    "## Load data from input table"
   ]
  },
  {
   "cell_type": "code",
   "execution_count": null,
   "id": "592fdf08",
   "metadata": {},
   "outputs": [],
   "source": [
    "# Load data\n",
    "cell_counts = pd.read_csv(\"../outputs/scCODA/Input_table_scCODA.csv\")\n",
    "print(cell_counts)"
   ]
  },
  {
   "cell_type": "code",
   "execution_count": null,
   "id": "0bb5f6a9",
   "metadata": {},
   "outputs": [],
   "source": [
    "# Convert data to anndata object\n",
    "data_all = dat.from_pandas(cell_counts, covariate_columns=[\"Age\", \"Individual\"])\n",
    "print(data_all)"
   ]
  },
  {
   "cell_type": "code",
   "execution_count": null,
   "id": "7528a36f",
   "metadata": {},
   "outputs": [],
   "source": [
    "# Boxplot \n",
    "viz.boxplots(data_all, feature_name=\"Age\")"
   ]
  },
  {
   "cell_type": "code",
   "execution_count": null,
   "id": "fc50c8fd",
   "metadata": {},
   "outputs": [],
   "source": [
    "# Stacked barplot per Age\n",
    "viz.stacked_barplot(data_all, feature_name=\"Age\")\n",
    "\n",
    "\n",
    "# Stacked barplot per Individual\n",
    "viz.stacked_barplot(data_all, feature_name=\"Individual\")"
   ]
  },
  {
   "cell_type": "markdown",
   "id": "51e92050",
   "metadata": {},
   "source": [
    "## Build scCODA Model with Adult individuals as default"
   ]
  },
  {
   "cell_type": "code",
   "execution_count": null,
   "id": "d5530107",
   "metadata": {},
   "outputs": [],
   "source": [
    "# Model setup and inference\n",
    "model_age_Adu = mod.CompositionalAnalysis(data_all,\n",
    "                                          formula=\"C(Age, Treatment('Adult'))\",\n",
    "                                          reference_cell_type=\"automatic\")\n",
    "\n",
    "# Run MCMC\n",
    "sim_results_Adu = model_age_Adu.sample_hmc(num_results=50000, num_burnin=10000)"
   ]
  },
  {
   "cell_type": "markdown",
   "id": "df49e28f",
   "metadata": {},
   "source": [
    "## Build scCODA Model with Subadult individuals as default"
   ]
  },
  {
   "cell_type": "code",
   "execution_count": null,
   "id": "433f5038",
   "metadata": {},
   "outputs": [],
   "source": [
    "# Model setup and inference\n",
    "model_age_Sub = mod.CompositionalAnalysis(data_all,\n",
    "                                          formula=\"C(Age, Treatment('Subadult'))\",\n",
    "                                          reference_cell_type=\"automatic\")\n",
    "\n",
    "# Run MCMC\n",
    "sim_results_Sub = model_age_Sub.sample_hmc(num_results=50000, num_burnin=10000)"
   ]
  },
  {
   "cell_type": "markdown",
   "id": "987d7148",
   "metadata": {},
   "source": [
    "## Build scCODA Model with Juvenile individuals as default"
   ]
  },
  {
   "cell_type": "code",
   "execution_count": null,
   "id": "0925f534",
   "metadata": {},
   "outputs": [],
   "source": [
    "# Model setup and inference\n",
    "model_age_Juv = mod.CompositionalAnalysis(data_all,\n",
    "                                          formula=\"C(Age, Treatment('Juvenile'))\", \n",
    "                                          reference_cell_type=\"automatic\")\n",
    "\n",
    "# Run MCMC\n",
    "sim_results_Juv = model_age_Juv.sample_hmc(num_results=50000, num_burnin=10000)"
   ]
  },
  {
   "cell_type": "markdown",
   "id": "8a57847d",
   "metadata": {},
   "source": [
    "## Save results"
   ]
  },
  {
   "cell_type": "code",
   "execution_count": null,
   "id": "e2db14c2",
   "metadata": {},
   "outputs": [],
   "source": [
    "# Save scCODA results\n",
    "sim_results_Adu.save(\"../outputs/scCODA/results_Adu\")\n",
    "sim_results_Sub.save(\"../outputs/scCODA/results_Sub\")\n",
    "sim_results_Juv.save(\"../outputs/scCODA/results_Juv\")"
   ]
  },
  {
   "cell_type": "markdown",
   "id": "baab13ed",
   "metadata": {},
   "source": [
    "## Load results and explore manually "
   ]
  },
  {
   "cell_type": "code",
   "execution_count": null,
   "id": "f491f469",
   "metadata": {},
   "outputs": [],
   "source": [
    "# Play with these two variables (path / chosen_fdr) to explore each age\n",
    "\n",
    "path = \"../outputs/scCODA/results_Sub\"\n",
    "chosen_fdr = 0.1 #Should check results with FDR 0.05 and 0.1\n",
    "\n",
    "\n",
    "with open(path, \"rb\") as f:\n",
    "    sim_results_loaded = pkl.load(f)\n",
    "    \n",
    "sim_results_loaded.set_fdr(est_fdr= chosen_fdr) #select FDR for loaded data\n",
    "print(sim_results_loaded.credible_effects()) #display credible results"
   ]
  },
  {
   "cell_type": "markdown",
   "id": "8d3dfe3a",
   "metadata": {},
   "source": [
    "## Load results and save them as separated files for analysis in R"
   ]
  },
  {
   "cell_type": "code",
   "execution_count": null,
   "id": "65b26710",
   "metadata": {},
   "outputs": [],
   "source": [
    "# Save all results as .csv tables for each FDR\n",
    "path = \"../outputs/scCODA/\"\n",
    "result_files = [\"results_Adu\", \"results_Sub\", \"results_Juv\"]\n",
    "fdr_thresholds = [0.1, 0.05]\n",
    "\n",
    "for x in result_files:\n",
    "    for y in fdr_thresholds:\n",
    "          with open(path + x, \"rb\") as f:\n",
    "            sim_results_loaded = pkl.load(f)\n",
    "    \n",
    "            sim_results_loaded.set_fdr(est_fdr= y) #select FDR for loaded data\n",
    "            table = sim_results_loaded.credible_effects() #table with credible results\n",
    "            table.to_csv(path + \"table_\" + x + \"_FDR_\" + str(y) + \".csv\")"
   ]
  }
 ],
 "metadata": {
  "kernelspec": {
   "display_name": "Python 3",
   "language": "python",
   "name": "python3"
  },
  "language_info": {
   "codemirror_mode": {
    "name": "ipython",
    "version": 3
   },
   "file_extension": ".py",
   "mimetype": "text/x-python",
   "name": "python",
   "nbconvert_exporter": "python",
   "pygments_lexer": "ipython3",
   "version": "3.9.7"
  }
 },
 "nbformat": 4,
 "nbformat_minor": 5
}
